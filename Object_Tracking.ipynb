{
 "cells": [
  {
   "cell_type": "code",
   "execution_count": 1,
   "metadata": {},
   "outputs": [],
   "source": [
    "from __future__ import print_function\n",
    "import sys\n",
    "import cv2\n",
    "from random import randint"
   ]
  },
  {
   "cell_type": "code",
   "execution_count": 5,
   "metadata": {},
   "outputs": [],
   "source": [
    "def createTrackerByName(trackerType):\n",
    "  # Create a tracker based on tracker name\n",
    "    if(trackerType == trackerTypes[0]):\n",
    "        tracker = cv2.TrackerBoosting_create()\n",
    "    elif(trackerType == trackerTypes[1]):\n",
    "        tracker = cv2.TrackerMIL_create()\n",
    "    elif(trackerType == trackerTypes[2]):\n",
    "        tracker = cv2.TrackerKCF_create()\n",
    "    elif(trackerType == trackerTypes[3]):\n",
    "        tracker = cv2.TrackerTLD_create()\n",
    "    elif(trackerType == trackerTypes[4]):\n",
    "        tracker = cv2.TrackerMedianFlow_create()\n",
    "    elif(trackerType == trackerTypes[5]):\n",
    "        tracker = cv2.TrackerGOTURN_create()\n",
    "    elif(trackerType == trackerTypes[6]):\n",
    "        tracker = cv2.TrackerMOSSE_create()\n",
    "    elif(trackerType == trackerTypes[7]):\n",
    "        tracker = cv2.TrackerCSRT_create()\n",
    "    else:\n",
    "        tracker = None\n",
    "    print('Incorrect tracker name')\n",
    "    print('Available trackers are:')\n",
    "    for t in trackerTypes:\n",
    "        print(t)\n",
    "\n",
    "    return tracker"
   ]
  },
  {
   "cell_type": "code",
   "execution_count": 6,
   "metadata": {},
   "outputs": [],
   "source": [
    "#Loading Video:\n",
    "\n",
    "trackerType = \"CSRT\" \n",
    "videoPath = \"video1.avi\"\n",
    " \n",
    "# Create a video capture object to read videos\n",
    "cap = cv2.VideoCapture(videoPath)\n",
    " \n",
    "# Read first frame\n",
    "success, frame = cap.read()\n",
    "# quit if unable to read the video file\n",
    "if not success:\n",
    "    print('Failed to read video')\n",
    "    sys.exit(1)"
   ]
  },
  {
   "cell_type": "code",
   "execution_count": 9,
   "metadata": {},
   "outputs": [
    {
     "name": "stdout",
     "output_type": "stream",
     "text": [
      "Press q to quit selecting boxes and start tracking\n",
      "Press any other key to select next object\n",
      "Selected bounding boxes [(0, 0, 0, 0)]\n",
      "Press q to quit selecting boxes and start tracking\n",
      "Press any other key to select next object\n",
      "Selected bounding boxes [(0, 0, 0, 0), (0, 0, 0, 0)]\n",
      "Press q to quit selecting boxes and start tracking\n",
      "Press any other key to select next object\n",
      "Selected bounding boxes [(0, 0, 0, 0), (0, 0, 0, 0), (0, 0, 0, 0)]\n",
      "Press q to quit selecting boxes and start tracking\n",
      "Press any other key to select next object\n",
      "Selected bounding boxes [(0, 0, 0, 0), (0, 0, 0, 0), (0, 0, 0, 0), (0, 0, 0, 0)]\n",
      "Press q to quit selecting boxes and start tracking\n",
      "Press any other key to select next object\n",
      "Selected bounding boxes [(0, 0, 0, 0), (0, 0, 0, 0), (0, 0, 0, 0), (0, 0, 0, 0), (0, 0, 0, 0)]\n",
      "Press q to quit selecting boxes and start tracking\n",
      "Press any other key to select next object\n",
      "Selected bounding boxes [(0, 0, 0, 0), (0, 0, 0, 0), (0, 0, 0, 0), (0, 0, 0, 0), (0, 0, 0, 0), (0, 0, 0, 0)]\n",
      "Press q to quit selecting boxes and start tracking\n",
      "Press any other key to select next object\n",
      "Selected bounding boxes [(0, 0, 0, 0), (0, 0, 0, 0), (0, 0, 0, 0), (0, 0, 0, 0), (0, 0, 0, 0), (0, 0, 0, 0), (171, 101, 47, 39)]\n",
      "Press q to quit selecting boxes and start tracking\n",
      "Press any other key to select next object\n",
      "Selected bounding boxes [(0, 0, 0, 0), (0, 0, 0, 0), (0, 0, 0, 0), (0, 0, 0, 0), (0, 0, 0, 0), (0, 0, 0, 0), (171, 101, 47, 39), (70, 99, 41, 36)]\n",
      "Press q to quit selecting boxes and start tracking\n",
      "Press any other key to select next object\n",
      "Selected bounding boxes [(0, 0, 0, 0), (0, 0, 0, 0), (0, 0, 0, 0), (0, 0, 0, 0), (0, 0, 0, 0), (0, 0, 0, 0), (171, 101, 47, 39), (70, 99, 41, 36), (63, 49, 44, 38)]\n",
      "Press q to quit selecting boxes and start tracking\n",
      "Press any other key to select next object\n"
     ]
    }
   ],
   "source": [
    "bboxes = []\n",
    "colors = [] \n",
    " \n",
    "while True:\n",
    "    # draw bounding boxes over objects\n",
    "    # selectROI's default behaviour is to draw box starting from the center\n",
    "    # when fromCenter is set to false, you can draw box starting from top left corner\n",
    "    bbox = cv2.selectROI('MultiTracker', frame)\n",
    "    bboxes.append(bbox)\n",
    "    colors.append((randint(64, 255), randint(64, 255), randint(64, 255)))\n",
    "    print(\"Press q to quit selecting boxes and start tracking\")\n",
    "    print(\"Press any other key to select next object\")\n",
    "    k = cv2.waitKey(0) & 0xFF\n",
    "    if (k == 113):  # q is pressed\n",
    "        break\n",
    "  \n",
    "    print('Selected bounding boxes {}'.format(bboxes))"
   ]
  },
  {
   "cell_type": "code",
   "execution_count": null,
   "metadata": {},
   "outputs": [],
   "source": [
    "multiTracker = cv2.MultiTracker_create()\n",
    "for bbox in bboxes:\n",
    "    multiTracker.add(createTrackerByName(trackerType), frame, bbox)\n",
    "    \n",
    "while cap.isOpened():\n",
    "    success, frame = cap.read()\n",
    "    if not success:\n",
    "        break\n",
    "    \n",
    "    # get updated location of objects in subsequent frames\n",
    "    success, boxes = multiTracker.update(frame)\n",
    "    for i, newbox in enumerate(boxes):\n",
    "        p1 = (int(newbox[0]), int(newbox[1]))\n",
    "        p2 = (int(newbox[0] + newbox[2]), int(newbox[1] + newbox[3]))\n",
    "        cv2.rectangle(frame, p1, p2, colors[i], 2, 1)\n",
    "\n",
    "    # show frame\n",
    "    cv2.imshow('MultiTracker', frame)\n",
    "    \n",
    "\n",
    "    # quit on ESC button\n",
    "    if cv2.waitKey(1) & 0xFF == 27:  # Esc pressed\n",
    "        break\n"
   ]
  }
 ],
 "metadata": {
  "kernelspec": {
   "display_name": "Python [conda env:tensorflow]",
   "language": "python",
   "name": "conda-env-tensorflow-py"
  },
  "language_info": {
   "codemirror_mode": {
    "name": "ipython",
    "version": 3
   },
   "file_extension": ".py",
   "mimetype": "text/x-python",
   "name": "python",
   "nbconvert_exporter": "python",
   "pygments_lexer": "ipython3",
   "version": "3.5.5"
  },
  "toc": {
   "base_numbering": 1,
   "nav_menu": {},
   "number_sections": true,
   "sideBar": true,
   "skip_h1_title": false,
   "title_cell": "Table of Contents",
   "title_sidebar": "Contents",
   "toc_cell": false,
   "toc_position": {},
   "toc_section_display": true,
   "toc_window_display": false
  }
 },
 "nbformat": 4,
 "nbformat_minor": 2
}
